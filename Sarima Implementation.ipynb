{
 "cells": [
  {
   "cell_type": "markdown",
   "metadata": {},
   "source": [
    "# Implementation of SARIMA for Temperature forecast"
   ]
  },
  {
   "cell_type": "markdown",
   "metadata": {},
   "source": [
    "## Reading all the required libraries for plots/eda/model build/testing"
   ]
  },
  {
   "cell_type": "code",
   "execution_count": 2,
   "metadata": {
    "scrolled": true
   },
   "outputs": [],
   "source": [
    "import pandas as pd\n",
    "import numpy as np\n",
    "from statsmodels.graphics.tsaplots import plot_acf, plot_pacf\n",
    "import matplotlib.pyplot as plt"
   ]
  },
  {
   "cell_type": "markdown",
   "metadata": {},
   "source": [
    "## Importing the data "
   ]
  },
  {
   "cell_type": "code",
   "execution_count": 32,
   "metadata": {
    "scrolled": true
   },
   "outputs": [
    {
     "name": "stdout",
     "output_type": "stream",
     "text": [
      "Month     object\n",
      "Temp     float64\n",
      "dtype: object\n",
      "Month    datetime64[ns]\n",
      "Temp            float64\n",
      "dtype: object\n"
     ]
    },
    {
     "data": {
      "text/html": [
       "<div>\n",
       "<style scoped>\n",
       "    .dataframe tbody tr th:only-of-type {\n",
       "        vertical-align: middle;\n",
       "    }\n",
       "\n",
       "    .dataframe tbody tr th {\n",
       "        vertical-align: top;\n",
       "    }\n",
       "\n",
       "    .dataframe thead th {\n",
       "        text-align: right;\n",
       "    }\n",
       "</style>\n",
       "<table border=\"1\" class=\"dataframe\">\n",
       "  <thead>\n",
       "    <tr style=\"text-align: right;\">\n",
       "      <th></th>\n",
       "      <th>Month</th>\n",
       "      <th>Temp</th>\n",
       "    </tr>\n",
       "  </thead>\n",
       "  <tbody>\n",
       "    <tr>\n",
       "      <th>0</th>\n",
       "      <td>2000-01-01</td>\n",
       "      <td>2.950</td>\n",
       "    </tr>\n",
       "    <tr>\n",
       "      <th>1</th>\n",
       "      <td>2000-02-01</td>\n",
       "      <td>4.184</td>\n",
       "    </tr>\n",
       "    <tr>\n",
       "      <th>2</th>\n",
       "      <td>2000-03-01</td>\n",
       "      <td>6.219</td>\n",
       "    </tr>\n",
       "    <tr>\n",
       "      <th>3</th>\n",
       "      <td>2000-04-01</td>\n",
       "      <td>9.552</td>\n",
       "    </tr>\n",
       "    <tr>\n",
       "      <th>4</th>\n",
       "      <td>2000-05-01</td>\n",
       "      <td>11.874</td>\n",
       "    </tr>\n",
       "    <tr>\n",
       "      <th>...</th>\n",
       "      <td>...</td>\n",
       "      <td>...</td>\n",
       "    </tr>\n",
       "    <tr>\n",
       "      <th>187</th>\n",
       "      <td>2015-08-01</td>\n",
       "      <td>14.755</td>\n",
       "    </tr>\n",
       "    <tr>\n",
       "      <th>188</th>\n",
       "      <td>2015-09-01</td>\n",
       "      <td>12.999</td>\n",
       "    </tr>\n",
       "    <tr>\n",
       "      <th>189</th>\n",
       "      <td>2015-10-01</td>\n",
       "      <td>10.801</td>\n",
       "    </tr>\n",
       "    <tr>\n",
       "      <th>190</th>\n",
       "      <td>2015-11-01</td>\n",
       "      <td>7.433</td>\n",
       "    </tr>\n",
       "    <tr>\n",
       "      <th>191</th>\n",
       "      <td>2015-12-01</td>\n",
       "      <td>5.518</td>\n",
       "    </tr>\n",
       "  </tbody>\n",
       "</table>\n",
       "<p>192 rows × 2 columns</p>\n",
       "</div>"
      ],
      "text/plain": [
       "         Month    Temp\n",
       "0   2000-01-01   2.950\n",
       "1   2000-02-01   4.184\n",
       "2   2000-03-01   6.219\n",
       "3   2000-04-01   9.552\n",
       "4   2000-05-01  11.874\n",
       "..         ...     ...\n",
       "187 2015-08-01  14.755\n",
       "188 2015-09-01  12.999\n",
       "189 2015-10-01  10.801\n",
       "190 2015-11-01   7.433\n",
       "191 2015-12-01   5.518\n",
       "\n",
       "[192 rows x 2 columns]"
      ]
     },
     "execution_count": 32,
     "metadata": {},
     "output_type": "execute_result"
    }
   ],
   "source": [
    "df = pd.read_csv(\"D:\\Github_projects\\Time Series- Sarima\\MonthlyTemperatureData.csv\")\n",
    "df.rename(columns={'dt':'Month','LandAverageTemperature':'Temp'}, inplace=True)\n",
    "print(df.dtypes)\n",
    "df['Month']=pd.to_datetime(df['Month'])\n",
    "print(df.dtypes)\n",
    "df"
   ]
  },
  {
   "cell_type": "markdown",
   "metadata": {},
   "source": [
    "## Exploratory data analysis "
   ]
  },
  {
   "cell_type": "markdown",
   "metadata": {},
   "source": [
    "#### The purpose of this step is to get familiar with the data and get the p,d,q values required to model the time series.We start by checking the stationarity of the time series - 2 ways to do this, either visually or via Augmented Dicky Fueller test\n"
   ]
  },
  {
   "cell_type": "markdown",
   "metadata": {},
   "source": [
    "### Visual inspection of stationarity"
   ]
  },
  {
   "cell_type": "code",
   "execution_count": 27,
   "metadata": {
    "scrolled": true
   },
   "outputs": [
    {
     "data": {
      "text/plain": [
       "[<matplotlib.lines.Line2D at 0x1a6f8011648>]"
      ]
     },
     "execution_count": 27,
     "metadata": {},
     "output_type": "execute_result"
    },
    {
     "data": {
      "image/png": "[encoded data removed]",
      "text/plain": [
       "<Figure size 432x288 with 1 Axes>"
      ]
     },
     "metadata": {
      "needs_background": "light"
     },
     "output_type": "display_data"
    }
   ],
   "source": [
    "plt.plot(df.Temp)\n",
    "#There is no trend in the data, we may not need trend differencing here"
   ]
  },
  {
   "cell_type": "markdown",
   "metadata": {},
   "source": [
    "### Augmented Dicky Fueller test to confirm no differencing needed"
   ]
  },
  {
   "cell_type": "code",
   "execution_count": 28,
   "metadata": {},
   "outputs": [
    {
     "name": "stdout",
     "output_type": "stream",
     "text": [
      "P value: 0.003116\n"
     ]
    }
   ],
   "source": [
    "from statsmodels.tsa.stattools import adfuller\n",
    "test = adfuller(df.Temp.dropna())\n",
    "print('P value: %f' % test[1] )\n",
    "#the data does not need to be differenced since we can reject the null hypothesis around stationarity"
   ]
  },
  {
   "cell_type": "markdown",
   "metadata": {},
   "source": [
    "#### We will skip building the ACF as well as the PACF plot since we're going to implement autoarima here. To check how those are built and interpreted, please refer to the ARIMA modelling project on my github"
   ]
  },
  {
   "cell_type": "markdown",
   "metadata": {},
   "source": [
    "## Building the model"
   ]
  },
  {
   "cell_type": "markdown",
   "metadata": {},
   "source": [
    "### Splitting the model into train test split"
   ]
  },
  {
   "cell_type": "code",
   "execution_count": 33,
   "metadata": {},
   "outputs": [
    {
     "name": "stdout",
     "output_type": "stream",
     "text": [
      "132     3.282\n",
      "133     3.743\n",
      "134     6.101\n",
      "135     9.483\n",
      "136    11.986\n",
      "137    14.370\n",
      "138    15.482\n",
      "139    15.012\n",
      "140    12.912\n",
      "141    10.352\n",
      "142     6.814\n",
      "143     4.655\n",
      "144     3.157\n",
      "145     3.628\n",
      "146     6.023\n",
      "147     9.676\n",
      "148    12.590\n",
      "149    14.492\n",
      "150    15.076\n",
      "151    14.720\n",
      "152    13.040\n",
      "153    10.428\n",
      "154     7.156\n",
      "155     4.102\n",
      "156     3.685\n",
      "157     4.222\n",
      "158     6.261\n",
      "159     9.044\n",
      "160    12.195\n",
      "161    14.568\n",
      "162    15.003\n",
      "163    14.742\n",
      "164    13.154\n",
      "165    10.256\n",
      "166     7.424\n",
      "167     4.724\n",
      "168     3.732\n",
      "169     3.500\n",
      "170     6.378\n",
      "171     9.589\n",
      "172    12.582\n",
      "173    14.335\n",
      "174    14.873\n",
      "175    14.875\n",
      "176    13.091\n",
      "177    10.330\n",
      "178     6.713\n",
      "179     4.850\n",
      "Name: Temp, dtype: float64\n",
      "180     3.881\n",
      "181     4.664\n",
      "182     6.740\n",
      "183     9.313\n",
      "184    12.312\n",
      "185    14.505\n",
      "186    15.051\n",
      "187    14.755\n",
      "188    12.999\n",
      "189    10.801\n",
      "190     7.433\n",
      "191     5.518\n",
      "Name: Temp, dtype: float64\n"
     ]
    }
   ],
   "source": [
    "train_df = df.loc[(df.Month>\"2010-12-31\") & (df.Month<=\"2014-12-31\")]\n",
    "test_df = df[df.Month>\"2014-12-31\"]\n",
    "train_df = train_df.Temp\n",
    "test_df = test_df.Temp\n",
    "print(train_df)\n",
    "print(test_df)"
   ]
  },
  {
   "cell_type": "markdown",
   "metadata": {},
   "source": [
    "### Training the model"
   ]
  },
  {
   "cell_type": "code",
   "execution_count": 34,
   "metadata": {},
   "outputs": [
    {
     "name": "stdout",
     "output_type": "stream",
     "text": [
      "Performing stepwise search to minimize aic\n",
      " ARIMA(1,1,1)(1,1,1)[12]             : AIC=inf, Time=2.14 sec\n",
      " ARIMA(0,1,0)(0,1,0)[12]             : AIC=50.814, Time=0.02 sec\n",
      " ARIMA(1,1,0)(1,1,0)[12]             : AIC=43.545, Time=0.09 sec\n",
      " ARIMA(0,1,1)(0,1,1)[12]             : AIC=inf, Time=0.25 sec\n",
      " ARIMA(1,1,0)(0,1,0)[12]             : AIC=51.047, Time=0.02 sec\n",
      " ARIMA(1,1,0)(2,1,0)[12]             : AIC=43.323, Time=0.20 sec\n",
      " ARIMA(1,1,0)(3,1,0)[12]             : AIC=inf, Time=1.65 sec\n",
      " ARIMA(1,1,0)(2,1,1)[12]             : AIC=inf, Time=0.92 sec\n",
      " ARIMA(1,1,0)(1,1,1)[12]             : AIC=inf, Time=0.29 sec\n",
      " ARIMA(1,1,0)(3,1,1)[12]             : AIC=46.920, Time=1.77 sec\n",
      " ARIMA(0,1,0)(2,1,0)[12]             : AIC=46.520, Time=0.19 sec\n",
      " ARIMA(2,1,0)(2,1,0)[12]             : AIC=41.692, Time=0.41 sec\n",
      " ARIMA(2,1,0)(1,1,0)[12]             : AIC=42.145, Time=0.12 sec\n",
      " ARIMA(2,1,0)(3,1,0)[12]             : AIC=inf, Time=2.04 sec\n",
      " ARIMA(2,1,0)(2,1,1)[12]             : AIC=inf, Time=1.43 sec\n",
      " ARIMA(2,1,0)(1,1,1)[12]             : AIC=inf, Time=0.41 sec\n",
      " ARIMA(2,1,0)(3,1,1)[12]             : AIC=45.300, Time=2.49 sec\n",
      " ARIMA(3,1,0)(2,1,0)[12]             : AIC=31.673, Time=0.38 sec\n",
      " ARIMA(3,1,0)(1,1,0)[12]             : AIC=32.033, Time=0.14 sec\n",
      " ARIMA(3,1,0)(3,1,0)[12]             : AIC=inf, Time=1.67 sec\n",
      " ARIMA(3,1,0)(2,1,1)[12]             : AIC=inf, Time=1.32 sec\n",
      " ARIMA(3,1,0)(1,1,1)[12]             : AIC=inf, Time=0.61 sec\n",
      " ARIMA(3,1,0)(3,1,1)[12]             : AIC=35.414, Time=1.62 sec\n",
      " ARIMA(3,1,1)(2,1,0)[12]             : AIC=inf, Time=1.32 sec\n",
      " ARIMA(2,1,1)(2,1,0)[12]             : AIC=inf, Time=1.25 sec\n",
      " ARIMA(3,1,0)(2,1,0)[12] intercept   : AIC=33.627, Time=0.66 sec\n",
      "\n",
      "Best model:  ARIMA(3,1,0)(2,1,0)[12]          \n",
      "Total fit time: 23.545 seconds\n"
     ]
    },
    {
     "data": {
      "text/html": [
       "<table class=\"simpletable\">\n",
       "<caption>SARIMAX Results</caption>\n",
       "<tr>\n",
       "  <th>Dep. Variable:</th>                  <td>y</td>               <th>  No. Observations:  </th>   <td>48</td>  \n",
       "</tr>\n",
       "<tr>\n",
       "  <th>Model:</th>           <td>SARIMAX(3, 1, 0)x(2, 1, 0, 12)</td> <th>  Log Likelihood     </th> <td>-9.837</td>\n",
       "</tr>\n",
       "<tr>\n",
       "  <th>Date:</th>                   <td>Sun, 31 Oct 2021</td>        <th>  AIC                </th> <td>31.673</td>\n",
       "</tr>\n",
       "<tr>\n",
       "  <th>Time:</th>                       <td>11:44:42</td>            <th>  BIC                </th> <td>41.006</td>\n",
       "</tr>\n",
       "<tr>\n",
       "  <th>Sample:</th>                         <td>0</td>               <th>  HQIC               </th> <td>34.895</td>\n",
       "</tr>\n",
       "<tr>\n",
       "  <th></th>                              <td> - 48</td>             <th>                     </th>    <td> </td>  \n",
       "</tr>\n",
       "<tr>\n",
       "  <th>Covariance Type:</th>               <td>opg</td>              <th>                     </th>    <td> </td>  \n",
       "</tr>\n",
       "</table>\n",
       "<table class=\"simpletable\">\n",
       "<tr>\n",
       "      <td></td>        <th>coef</th>     <th>std err</th>      <th>z</th>      <th>P>|z|</th>  <th>[0.025</th>    <th>0.975]</th>  \n",
       "</tr>\n",
       "<tr>\n",
       "  <th>ar.L1</th>    <td>   -0.6549</td> <td>    0.175</td> <td>   -3.746</td> <td> 0.000</td> <td>   -0.997</td> <td>   -0.312</td>\n",
       "</tr>\n",
       "<tr>\n",
       "  <th>ar.L2</th>    <td>   -0.5942</td> <td>    0.232</td> <td>   -2.557</td> <td> 0.011</td> <td>   -1.050</td> <td>   -0.139</td>\n",
       "</tr>\n",
       "<tr>\n",
       "  <th>ar.L3</th>    <td>   -0.5670</td> <td>    0.166</td> <td>   -3.417</td> <td> 0.001</td> <td>   -0.892</td> <td>   -0.242</td>\n",
       "</tr>\n",
       "<tr>\n",
       "  <th>ar.S.L12</th> <td>   -0.6607</td> <td>    0.229</td> <td>   -2.885</td> <td> 0.004</td> <td>   -1.110</td> <td>   -0.212</td>\n",
       "</tr>\n",
       "<tr>\n",
       "  <th>ar.S.L24</th> <td>   -0.4585</td> <td>    0.239</td> <td>   -1.917</td> <td> 0.055</td> <td>   -0.927</td> <td>    0.010</td>\n",
       "</tr>\n",
       "<tr>\n",
       "  <th>sigma2</th>   <td>    0.0779</td> <td>    0.026</td> <td>    2.991</td> <td> 0.003</td> <td>    0.027</td> <td>    0.129</td>\n",
       "</tr>\n",
       "</table>\n",
       "<table class=\"simpletable\">\n",
       "<tr>\n",
       "  <th>Ljung-Box (L1) (Q):</th>     <td>0.07</td> <th>  Jarque-Bera (JB):  </th> <td>0.99</td>\n",
       "</tr>\n",
       "<tr>\n",
       "  <th>Prob(Q):</th>                <td>0.79</td> <th>  Prob(JB):          </th> <td>0.61</td>\n",
       "</tr>\n",
       "<tr>\n",
       "  <th>Heteroskedasticity (H):</th> <td>0.72</td> <th>  Skew:              </th> <td>0.13</td>\n",
       "</tr>\n",
       "<tr>\n",
       "  <th>Prob(H) (two-sided):</th>    <td>0.58</td> <th>  Kurtosis:          </th> <td>2.22</td>\n",
       "</tr>\n",
       "</table><br/><br/>Warnings:<br/>[1] Covariance matrix calculated using the outer product of gradients (complex-step)."
      ],
      "text/plain": [
       "<class 'statsmodels.iolib.summary.Summary'>\n",
       "\"\"\"\n",
       "                                     SARIMAX Results                                      \n",
       "==========================================================================================\n",
       "Dep. Variable:                                  y   No. Observations:                   48\n",
       "Model:             SARIMAX(3, 1, 0)x(2, 1, 0, 12)   Log Likelihood                  -9.837\n",
       "Date:                            Sun, 31 Oct 2021   AIC                             31.673\n",
       "Time:                                    11:44:42   BIC                             41.006\n",
       "Sample:                                         0   HQIC                            34.895\n",
       "                                             - 48                                         \n",
       "Covariance Type:                              opg                                         \n",
       "==============================================================================\n",
       "                 coef    std err          z      P>|z|      [0.025      0.975]\n",
       "------------------------------------------------------------------------------\n",
       "ar.L1         -0.6549      0.175     -3.746      0.000      -0.997      -0.312\n",
       "ar.L2         -0.5942      0.232     -2.557      0.011      -1.050      -0.139\n",
       "ar.L3         -0.5670      0.166     -3.417      0.001      -0.892      -0.242\n",
       "ar.S.L12      -0.6607      0.229     -2.885      0.004      -1.110      -0.212\n",
       "ar.S.L24      -0.4585      0.239     -1.917      0.055      -0.927       0.010\n",
       "sigma2         0.0779      0.026      2.991      0.003       0.027       0.129\n",
       "===================================================================================\n",
       "Ljung-Box (L1) (Q):                   0.07   Jarque-Bera (JB):                 0.99\n",
       "Prob(Q):                              0.79   Prob(JB):                         0.61\n",
       "Heteroskedasticity (H):               0.72   Skew:                             0.13\n",
       "Prob(H) (two-sided):                  0.58   Kurtosis:                         2.22\n",
       "===================================================================================\n",
       "\n",
       "Warnings:\n",
       "[1] Covariance matrix calculated using the outer product of gradients (complex-step).\n",
       "\"\"\""
      ]
     },
     "execution_count": 34,
     "metadata": {},
     "output_type": "execute_result"
    }
   ],
   "source": [
    "import pmdarima as pm\n",
    "\n",
    "model = pm.auto_arima(train_df, test='adf', start_p=1, d= None, D= None, start_q=1, max_p=3, max_q= 3, start_P=1, start_Q=1, max_P=3, max_Q=3, max_D=2, m=12, seasonal=True\n",
    "                    , trace=True,supress_warning=True, stepwise=True)\n",
    "model.summary()"
   ]
  },
  {
   "cell_type": "markdown",
   "metadata": {},
   "source": [
    "#### The PMDARIMA package gives us the best model fit by performing a grid search on all possible combinations of p,d,q(the trend lags, differencing and error term lag) as well as P,D,Q(The seasonal lags, differencing and error term lag)"
   ]
  },
  {
   "cell_type": "markdown",
   "metadata": {},
   "source": [
    "### Forecasting and visually inspecting the forecast with actuals"
   ]
  },
  {
   "cell_type": "code",
   "execution_count": 41,
   "metadata": {},
   "outputs": [
    {
     "data": {
      "text/plain": [
       "[<matplotlib.lines.Line2D at 0x1a6ff29bc88>]"
      ]
     },
     "execution_count": 41,
     "metadata": {},
     "output_type": "execute_result"
    },
    {
     "data": {
      "image/png": "[encoded data removed]",
      "text/plain": [
       "<Figure size 432x288 with 1 Axes>"
      ]
     },
     "metadata": {
      "needs_background": "light"
     },
     "output_type": "display_data"
    }
   ],
   "source": [
    "forecast = model.predict(12, alpha=0.05)\n",
    "actuals_forecast = pd.Series(forecast, index = test_df.index)\n",
    "plt.plot(test_df)\n",
    "plt.plot(actuals_forecast)\n",
    "plt.plot(train_df)"
   ]
  },
  {
   "cell_type": "markdown",
   "metadata": {},
   "source": [
    "## Model Accuracy Measurement"
   ]
  },
  {
   "cell_type": "markdown",
   "metadata": {},
   "source": [
    "#### We will do a couple of checks to see whether this is the model for us. We'll check: residual plots, MAPE"
   ]
  },
  {
   "cell_type": "markdown",
   "metadata": {},
   "source": [
    "### Residual Plots"
   ]
  },
  {
   "cell_type": "code",
   "execution_count": 46,
   "metadata": {},
   "outputs": [
    {
     "data": {
      "text/plain": [
       "<AxesSubplot:ylabel='Density'>"
      ]
     },
     "execution_count": 46,
     "metadata": {},
     "output_type": "execute_result"
    },
    {
     "data": {
      "image/png": "[encoded data removed]",
      "text/plain": [
       "<Figure size 432x288 with 1 Axes>"
      ]
     },
     "metadata": {
      "needs_background": "light"
     },
     "output_type": "display_data"
    },
    {
     "data": {
      "image/png": "[encoded data removed]",
      "text/plain": [
       "<Figure size 432x288 with 1 Axes>"
      ]
     },
     "metadata": {
      "needs_background": "light"
     },
     "output_type": "display_data"
    }
   ],
   "source": [
    "residuals = pd.DataFrame(model.resid())\n",
    "residuals.plot(title = \"Residuals\")\n",
    "residuals.plot(kind = 'kde')\n",
    "## it looks like the model residuals are stationary as they are centered around 0"
   ]
  },
  {
   "cell_type": "markdown",
   "metadata": {},
   "source": [
    "### MAPE Calculation"
   ]
  },
  {
   "cell_type": "code",
   "execution_count": 51,
   "metadata": {},
   "outputs": [
    {
     "data": {
      "text/html": [
       "<div>\n",
       "<style scoped>\n",
       "    .dataframe tbody tr th:only-of-type {\n",
       "        vertical-align: middle;\n",
       "    }\n",
       "\n",
       "    .dataframe tbody tr th {\n",
       "        vertical-align: top;\n",
       "    }\n",
       "\n",
       "    .dataframe thead th {\n",
       "        text-align: right;\n",
       "    }\n",
       "</style>\n",
       "<table border=\"1\" class=\"dataframe\">\n",
       "  <thead>\n",
       "    <tr style=\"text-align: right;\">\n",
       "      <th></th>\n",
       "      <th>Month</th>\n",
       "      <th>Temp</th>\n",
       "      <th>Predicted</th>\n",
       "    </tr>\n",
       "  </thead>\n",
       "  <tbody>\n",
       "    <tr>\n",
       "      <th>180</th>\n",
       "      <td>2015-01-01</td>\n",
       "      <td>3.881</td>\n",
       "      <td>3.573933</td>\n",
       "    </tr>\n",
       "    <tr>\n",
       "      <th>181</th>\n",
       "      <td>2015-02-01</td>\n",
       "      <td>4.664</td>\n",
       "      <td>3.748601</td>\n",
       "    </tr>\n",
       "    <tr>\n",
       "      <th>182</th>\n",
       "      <td>2015-03-01</td>\n",
       "      <td>6.740</td>\n",
       "      <td>6.007598</td>\n",
       "    </tr>\n",
       "    <tr>\n",
       "      <th>183</th>\n",
       "      <td>2015-04-01</td>\n",
       "      <td>9.313</td>\n",
       "      <td>9.621679</td>\n",
       "    </tr>\n",
       "    <tr>\n",
       "      <th>184</th>\n",
       "      <td>2015-05-01</td>\n",
       "      <td>12.312</td>\n",
       "      <td>12.598249</td>\n",
       "    </tr>\n",
       "    <tr>\n",
       "      <th>185</th>\n",
       "      <td>2015-06-01</td>\n",
       "      <td>14.505</td>\n",
       "      <td>14.511591</td>\n",
       "    </tr>\n",
       "    <tr>\n",
       "      <th>186</th>\n",
       "      <td>2015-07-01</td>\n",
       "      <td>15.051</td>\n",
       "      <td>14.916205</td>\n",
       "    </tr>\n",
       "    <tr>\n",
       "      <th>187</th>\n",
       "      <td>2015-08-01</td>\n",
       "      <td>14.755</td>\n",
       "      <td>14.815106</td>\n",
       "    </tr>\n",
       "    <tr>\n",
       "      <th>188</th>\n",
       "      <td>2015-09-01</td>\n",
       "      <td>12.999</td>\n",
       "      <td>13.141942</td>\n",
       "    </tr>\n",
       "    <tr>\n",
       "      <th>189</th>\n",
       "      <td>2015-10-01</td>\n",
       "      <td>10.801</td>\n",
       "      <td>10.414061</td>\n",
       "    </tr>\n",
       "    <tr>\n",
       "      <th>190</th>\n",
       "      <td>2015-11-01</td>\n",
       "      <td>7.433</td>\n",
       "      <td>7.040143</td>\n",
       "    </tr>\n",
       "    <tr>\n",
       "      <th>191</th>\n",
       "      <td>2015-12-01</td>\n",
       "      <td>5.518</td>\n",
       "      <td>4.501286</td>\n",
       "    </tr>\n",
       "  </tbody>\n",
       "</table>\n",
       "</div>"
      ],
      "text/plain": [
       "         Month    Temp  Predicted\n",
       "180 2015-01-01   3.881   3.573933\n",
       "181 2015-02-01   4.664   3.748601\n",
       "182 2015-03-01   6.740   6.007598\n",
       "183 2015-04-01   9.313   9.621679\n",
       "184 2015-05-01  12.312  12.598249\n",
       "185 2015-06-01  14.505  14.511591\n",
       "186 2015-07-01  15.051  14.916205\n",
       "187 2015-08-01  14.755  14.815106\n",
       "188 2015-09-01  12.999  13.141942\n",
       "189 2015-10-01  10.801  10.414061\n",
       "190 2015-11-01   7.433   7.040143\n",
       "191 2015-12-01   5.518   4.501286"
      ]
     },
     "execution_count": 51,
     "metadata": {},
     "output_type": "execute_result"
    }
   ],
   "source": [
    "comparison = pd.concat([df[df.Month>\"2014-12-31\"],actuals_forecast], axis = 1)\n",
    "comparison.rename(columns={0:'Predicted'}, inplace=True)\n",
    "comparison"
   ]
  },
  {
   "cell_type": "code",
   "execution_count": 53,
   "metadata": {},
   "outputs": [
    {
     "data": {
      "text/plain": [
       "0.0614884203945651"
      ]
     },
     "execution_count": 53,
     "metadata": {},
     "output_type": "execute_result"
    }
   ],
   "source": [
    "mape = np.mean(np.abs(test_df-actuals_forecast)/np.abs(test_df))\n",
    "mape\n",
    "## We get a mape of 6%, meaning the model has a high accuracy of 94%(believable because the data is fairly simple to model)"
   ]
  }
 ],
 "metadata": {
  "kernelspec": {
   "display_name": "Python 3 (ipykernel)",
   "language": "python",
   "name": "python3"
  },
  "language_info": {
   "codemirror_mode": {
    "name": "ipython",
    "version": 3
   },
   "file_extension": ".py",
   "mimetype": "text/x-python",
   "name": "python",
   "nbconvert_exporter": "python",
   "pygments_lexer": "ipython3",
   "version": "3.7.5"
  }
 },
 "nbformat": 4,
 "nbformat_minor": 4
}
